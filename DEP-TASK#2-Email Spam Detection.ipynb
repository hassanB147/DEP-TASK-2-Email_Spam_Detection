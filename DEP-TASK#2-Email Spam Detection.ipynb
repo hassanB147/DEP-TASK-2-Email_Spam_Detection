{
 "cells": [
  {
   "cell_type": "markdown",
   "id": "be4de2a5-5c72-40dc-ba4c-261e353ec890",
   "metadata": {},
   "source": [
    "**Libraries**"
   ]
  },
  {
   "cell_type": "code",
   "execution_count": 1,
   "id": "2f003c84-b709-4b8e-bf81-781e872b0d8d",
   "metadata": {},
   "outputs": [],
   "source": [
    "import pandas as pd\n",
    "from sklearn.model_selection import train_test_split\n",
    "import seaborn as sns\n",
    "import matplotlib.pyplot as plt\n",
    "from sklearn.svm import SVC\n",
    "from sklearn.naive_bayes import GaussianNB\n",
    "from sklearn.naive_bayes import MultinomialNB\n",
    "from sklearn.model_selection import GridSearchCV"
   ]
  },
  {
   "cell_type": "code",
   "execution_count": 2,
   "id": "ef514371-8fa3-41e0-804e-a1e1123467f8",
   "metadata": {},
   "outputs": [],
   "source": [
    "df=pd.read_csv(\"spam.csv\")"
   ]
  },
  {
   "cell_type": "code",
   "execution_count": 3,
   "id": "10a68257-cbc5-42d4-b795-e8c9d41a790c",
   "metadata": {},
   "outputs": [
    {
     "data": {
      "text/html": [
       "<div>\n",
       "<style scoped>\n",
       "    .dataframe tbody tr th:only-of-type {\n",
       "        vertical-align: middle;\n",
       "    }\n",
       "\n",
       "    .dataframe tbody tr th {\n",
       "        vertical-align: top;\n",
       "    }\n",
       "\n",
       "    .dataframe thead th {\n",
       "        text-align: right;\n",
       "    }\n",
       "</style>\n",
       "<table border=\"1\" class=\"dataframe\">\n",
       "  <thead>\n",
       "    <tr style=\"text-align: right;\">\n",
       "      <th></th>\n",
       "      <th>Category</th>\n",
       "      <th>Message</th>\n",
       "    </tr>\n",
       "  </thead>\n",
       "  <tbody>\n",
       "    <tr>\n",
       "      <th>0</th>\n",
       "      <td>ham</td>\n",
       "      <td>Go until jurong point, crazy.. Available only ...</td>\n",
       "    </tr>\n",
       "    <tr>\n",
       "      <th>1</th>\n",
       "      <td>ham</td>\n",
       "      <td>Ok lar... Joking wif u oni...</td>\n",
       "    </tr>\n",
       "    <tr>\n",
       "      <th>2</th>\n",
       "      <td>spam</td>\n",
       "      <td>Free entry in 2 a wkly comp to win FA Cup fina...</td>\n",
       "    </tr>\n",
       "    <tr>\n",
       "      <th>3</th>\n",
       "      <td>ham</td>\n",
       "      <td>U dun say so early hor... U c already then say...</td>\n",
       "    </tr>\n",
       "    <tr>\n",
       "      <th>4</th>\n",
       "      <td>ham</td>\n",
       "      <td>Nah I don't think he goes to usf, he lives aro...</td>\n",
       "    </tr>\n",
       "  </tbody>\n",
       "</table>\n",
       "</div>"
      ],
      "text/plain": [
       "  Category                                            Message\n",
       "0      ham  Go until jurong point, crazy.. Available only ...\n",
       "1      ham                      Ok lar... Joking wif u oni...\n",
       "2     spam  Free entry in 2 a wkly comp to win FA Cup fina...\n",
       "3      ham  U dun say so early hor... U c already then say...\n",
       "4      ham  Nah I don't think he goes to usf, he lives aro..."
      ]
     },
     "execution_count": 3,
     "metadata": {},
     "output_type": "execute_result"
    }
   ],
   "source": [
    "df.head()"
   ]
  },
  {
   "cell_type": "markdown",
   "id": "86c743fb-35b3-46f6-9381-f2e98bed3648",
   "metadata": {},
   "source": [
    "**Data Cleaning**"
   ]
  },
  {
   "cell_type": "code",
   "execution_count": 4,
   "id": "9b06e1c7-d312-44f3-bf21-af723b7989f8",
   "metadata": {},
   "outputs": [
    {
     "data": {
      "text/html": [
       "<div>\n",
       "<style scoped>\n",
       "    .dataframe tbody tr th:only-of-type {\n",
       "        vertical-align: middle;\n",
       "    }\n",
       "\n",
       "    .dataframe tbody tr th {\n",
       "        vertical-align: top;\n",
       "    }\n",
       "\n",
       "    .dataframe thead th {\n",
       "        text-align: right;\n",
       "    }\n",
       "</style>\n",
       "<table border=\"1\" class=\"dataframe\">\n",
       "  <thead>\n",
       "    <tr style=\"text-align: right;\">\n",
       "      <th></th>\n",
       "      <th>Category</th>\n",
       "      <th>Message</th>\n",
       "    </tr>\n",
       "  </thead>\n",
       "  <tbody>\n",
       "    <tr>\n",
       "      <th>count</th>\n",
       "      <td>5572</td>\n",
       "      <td>5572</td>\n",
       "    </tr>\n",
       "    <tr>\n",
       "      <th>unique</th>\n",
       "      <td>2</td>\n",
       "      <td>5157</td>\n",
       "    </tr>\n",
       "    <tr>\n",
       "      <th>top</th>\n",
       "      <td>ham</td>\n",
       "      <td>Sorry, I'll call later</td>\n",
       "    </tr>\n",
       "    <tr>\n",
       "      <th>freq</th>\n",
       "      <td>4825</td>\n",
       "      <td>30</td>\n",
       "    </tr>\n",
       "  </tbody>\n",
       "</table>\n",
       "</div>"
      ],
      "text/plain": [
       "       Category                 Message\n",
       "count      5572                    5572\n",
       "unique        2                    5157\n",
       "top         ham  Sorry, I'll call later\n",
       "freq       4825                      30"
      ]
     },
     "execution_count": 4,
     "metadata": {},
     "output_type": "execute_result"
    }
   ],
   "source": [
    "df.describe()"
   ]
  },
  {
   "cell_type": "code",
   "execution_count": 5,
   "id": "206e2c4d-dbe1-46eb-bdaa-6ffb942a4181",
   "metadata": {},
   "outputs": [
    {
     "name": "stdout",
     "output_type": "stream",
     "text": [
      "<class 'pandas.core.frame.DataFrame'>\n",
      "RangeIndex: 5572 entries, 0 to 5571\n",
      "Data columns (total 2 columns):\n",
      " #   Column    Non-Null Count  Dtype \n",
      "---  ------    --------------  ----- \n",
      " 0   Category  5572 non-null   object\n",
      " 1   Message   5572 non-null   object\n",
      "dtypes: object(2)\n",
      "memory usage: 87.2+ KB\n"
     ]
    }
   ],
   "source": [
    "df.info()"
   ]
  },
  {
   "cell_type": "code",
   "execution_count": 9,
   "id": "006bf984-7dec-4f5c-a276-aea0d8c1c77d",
   "metadata": {},
   "outputs": [],
   "source": [
    "df[\"spam\"] = df[\"Category\"].apply(lambda x: 1 if x == \"spam\" else 0)"
   ]
  },
  {
   "cell_type": "code",
   "execution_count": 10,
   "id": "1d0186c2-b873-4870-ab1f-7c0749225e94",
   "metadata": {},
   "outputs": [
    {
     "data": {
      "text/plain": [
       "<Axes: xlabel='Category', ylabel='count'>"
      ]
     },
     "execution_count": 10,
     "metadata": {},
     "output_type": "execute_result"
    },
    {
     "data": {
      "image/png": "[encoded data removed]",
      "text/plain": [
       "<Figure size 640x480 with 1 Axes>"
      ]
     },
     "metadata": {},
     "output_type": "display_data"
    }
   ],
   "source": [
    "sns.countplot(x=\"Category\", data=df)"
   ]
  },
  {
   "cell_type": "code",
   "execution_count": null,
   "id": "3c37d079-1ed5-4a8a-9e46-c8964d0536c0",
   "metadata": {},
   "outputs": [],
   "source": [
    "x=df.Message\n",
    "y=df.spam"
   ]
  },
  {
   "cell_type": "code",
   "execution_count": null,
   "id": "2feefa50-8c9a-44b1-aa28-5e20af66077a",
   "metadata": {},
   "outputs": [],
   "source": [
    "x_train,x_test,y_train,y_test=train_test_split(x,y,test_size=0.2)"
   ]
  },
  {
   "cell_type": "markdown",
   "id": "8b51cd29-0a58-4be0-a394-5c705f401b1d",
   "metadata": {},
   "source": [
    "**Feature extraction**"
   ]
  },
  {
   "cell_type": "code",
   "execution_count": null,
   "id": "7868b71b-c8bc-4b00-8ff0-20ba96b2b5f2",
   "metadata": {},
   "outputs": [],
   "source": [
    "from sklearn.feature_extraction.text import CountVectorizer\n",
    "vector=CountVectorizer()\n",
    "x_tra=vector.fit_transform(x_train)\n",
    "x_tes=vector.transform(x_test)"
   ]
  },
  {
   "cell_type": "markdown",
   "id": "3210d6bd-be4f-477d-9156-456c2868f5f8",
   "metadata": {},
   "source": [
    "**Model selection and training**"
   ]
  },
  {
   "cell_type": "code",
   "execution_count": null,
   "id": "e09afd30-f069-4ff6-aa36-59c43ebfe362",
   "metadata": {},
   "outputs": [],
   "source": [
    "from sklearn.naive_bayes import MultinomialNB\n",
    "naive=MultinomialNB()\n",
    "naive.fit(x_tra,y_train)"
   ]
  },
  {
   "cell_type": "code",
   "execution_count": null,
   "id": "08b3a633-54a4-4319-bc96-ee3d9ee87b4b",
   "metadata": {},
   "outputs": [],
   "source": [
    "naive.score(x_tes,y_test)"
   ]
  },
  {
   "cell_type": "code",
   "execution_count": null,
   "id": "daf02082-69f4-404a-a3c1-07b2e459f2eb",
   "metadata": {},
   "outputs": [],
   "source": [
    "y_predict=naive.predict(x_tes)"
   ]
  },
  {
   "cell_type": "code",
   "execution_count": null,
   "id": "8b77c790-9f7a-4d2f-9022-81c7bbaa091e",
   "metadata": {},
   "outputs": [],
   "source": [
    "from sklearn.metrics import confusion_matrix\n",
    "ce=confusion_matrix(y_predict,y_test)\n",
    "ce"
   ]
  },
  {
   "cell_type": "code",
   "execution_count": null,
   "id": "36045c04-cd56-42ee-adca-871e94231ee3",
   "metadata": {},
   "outputs": [],
   "source": [
    "sns.heatmap(ce,annot=True)\n",
    "plt.xlabel(\"Predicted\")\n",
    "plt.ylabel(\"Truth\")"
   ]
  },
  {
   "cell_type": "code",
   "execution_count": null,
   "id": "ebdbd657-08bf-407d-9a70-feab1633df41",
   "metadata": {},
   "outputs": [],
   "source": [
    "naive.predict(x_tes)"
   ]
  },
  {
   "cell_type": "markdown",
   "id": "5671c99b-905a-4e46-ba55-27864062e4fe",
   "metadata": {},
   "source": [
    "**PipeLine**"
   ]
  },
  {
   "cell_type": "code",
   "execution_count": null,
   "id": "d84ef9fa-76d2-4d81-9ae2-db5472a26fd4",
   "metadata": {},
   "outputs": [],
   "source": [
    "from sklearn.pipeline import Pipeline"
   ]
  },
  {
   "cell_type": "code",
   "execution_count": null,
   "id": "115d1716-c823-4c48-82c2-3b7a402a7001",
   "metadata": {},
   "outputs": [],
   "source": [
    "ce=Pipeline([\n",
    "    (\"vectoriz\",CountVectorizer()),\n",
    "    (\"nb\",MultinomialNB())\n",
    "])"
   ]
  },
  {
   "cell_type": "code",
   "execution_count": null,
   "id": "e55f5344-8aa8-4e00-808a-bbef380bc575",
   "metadata": {},
   "outputs": [],
   "source": [
    "ce.fit(x_train,y_train)"
   ]
  },
  {
   "cell_type": "code",
   "execution_count": null,
   "id": "9c1be0d3-b6d6-4d0e-8411-1f381b801bf2",
   "metadata": {},
   "outputs": [],
   "source": [
    "ce.predict(x_test)"
   ]
  },
  {
   "cell_type": "code",
   "execution_count": null,
   "id": "778003bc-c235-44f9-9c35-9f9e83c26470",
   "metadata": {},
   "outputs": [],
   "source": [
    "ce.score(x_test,y_test)"
   ]
  },
  {
   "cell_type": "markdown",
   "id": "ddd55f6d-804f-4dd4-8833-dab9ec12dde2",
   "metadata": {},
   "source": [
    "**Fine Tuning**"
   ]
  },
  {
   "cell_type": "code",
   "execution_count": null,
   "id": "013ef2d3-8863-4cb7-b1ab-5a1715ef15da",
   "metadata": {},
   "outputs": [],
   "source": [
    "model_params={\n",
    "    'svm':{\n",
    "        'model': SVC(gamma='auto'),\n",
    "        'params':{'kernel':['rbf','linear'],\n",
    "                 'C':[1,5,10]}}}"
   ]
  },
  {
   "cell_type": "code",
   "execution_count": null,
   "id": "190c6db2-af51-4f39-a12d-9d40042b7091",
   "metadata": {},
   "outputs": [],
   "source": [
    "res=[]\n",
    "for name,param in model_params.items():\n",
    "    ce=GridSearchCV(param['model'],param['params'],cv=5,return_train_score=False)\n",
    "    ce.fit(x_tra,y_train)\n",
    "    res.append(\n",
    "        {\n",
    "            'model':name,\n",
    "            'best_score':ce.best_score_,\n",
    "            'best_param':ce.best_params_\n",
    "        }\n",
    "    )"
   ]
  },
  {
   "cell_type": "code",
   "execution_count": null,
   "id": "ff6d523c-aed8-4243-b69d-78a871cdeb12",
   "metadata": {},
   "outputs": [],
   "source": [
    "result=pd.DataFrame(res)"
   ]
  },
  {
   "cell_type": "code",
   "execution_count": null,
   "id": "3511f4cb-cf05-491e-aa02-ad02b43a5001",
   "metadata": {},
   "outputs": [],
   "source": [
    "result"
   ]
  }
 ],
 "metadata": {
  "kernelspec": {
   "display_name": "Python 3 (ipykernel)",
   "language": "python",
   "name": "python3"
  },
  "language_info": {
   "codemirror_mode": {
    "name": "ipython",
    "version": 3
   },
   "file_extension": ".py",
   "mimetype": "text/x-python",
   "name": "python",
   "nbconvert_exporter": "python",
   "pygments_lexer": "ipython3",
   "version": "3.11.7"
  }
 },
 "nbformat": 4,
 "nbformat_minor": 5
}
